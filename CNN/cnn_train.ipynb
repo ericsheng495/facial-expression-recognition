{
 "cells": [
  {
   "cell_type": "markdown",
   "metadata": {},
   "source": [
    "## Import Libraries"
   ]
  },
  {
   "cell_type": "code",
   "execution_count": null,
   "metadata": {},
   "outputs": [],
   "source": [
    "import numpy as np  # linear algebra\n",
    "import pandas as pd # data processing CSV file\n",
    "import matplotlib.pyplot as plt\n",
    "import seaborn as sns\n",
    "from sklearn.metrics import confusion_matrix\n",
    "from tensorflow.keras.models import Sequential\n",
    "from tensorflow.keras import layers\n",
    "from tensorflow.keras.layers import Conv2D, MaxPooling2D, Flatten, Dense\n",
    "from tensorflow.keras.optimizers import Adam\n",
    "from tensorflow.keras.utils import to_categorical\n",
    "from sklearn.model_selection import train_test_split\n",
    "import os\n",
    "from PIL import Image"
   ]
  },
  {
   "cell_type": "markdown",
   "metadata": {},
   "source": [
    "## Dataset Preprocessing"
   ]
  },
  {
   "cell_type": "markdown",
   "metadata": {},
   "source": [
    "- Reshape to grayscale image &\n",
    "- Split data into training and test sets\n",
    "- Add emotional labels "
   ]
  },
  {
   "cell_type": "code",
   "execution_count": null,
   "metadata": {},
   "outputs": [],
   "source": [
    "def read_png_to_gray_matrix(folder_path, processed_dataset):\n",
    "    for filename in os.listdir(folder_path):\n",
    "        if filename.endswith('.jpg'):\n",
    "            file_path = os.path.join(folder_path, filename)\n",
    "            image = Image.open(file_path)\n",
    "            gray_matrix = image.convert('L')\n",
    "            dic = {\"label\": label_generate(folder_path), \"matrix\": np.asarray(gray_matrix)}\n",
    "            processed_dataset.append(dic)\n",
    "    return processed_dataset"
   ]
  },
  {
   "cell_type": "code",
   "execution_count": null,
   "metadata": {},
   "outputs": [],
   "source": [
    "\n",
    "def label_generate(path):\n",
    "    if path == train_data_path[0] or path == test_data_path[0]:\n",
    "        label = \"angry\"\n",
    "        return label\n",
    "    if path == train_data_path[1] or path == test_data_path[1]:\n",
    "        label = \"disgust\"\n",
    "        return label\n",
    "    if path == train_data_path[2] or path == test_data_path[2]:\n",
    "        label = \"fear\"\n",
    "        return label\n",
    "    if path == train_data_path[3] or path == test_data_path[3]:\n",
    "        label = \"happy\"\n",
    "        return label\n",
    "    if path == train_data_path[4] or path == test_data_path[4]:\n",
    "        label = \"neutral\"\n",
    "        return label\n",
    "    if path == train_data_path[5] or path == test_data_path[5]:\n",
    "        label = \"sad\"\n",
    "        return label\n",
    "    if path == train_data_path[6] or path == test_data_path[6]:\n",
    "        label = \"surprise\"\n",
    "        return label\n",
    "    else:\n",
    "        raise ValueError(\"Invalid path\")\n"
   ]
  },
  {
   "cell_type": "code",
   "execution_count": null,
   "metadata": {},
   "outputs": [],
   "source": [
    "train_data_path = [\n",
    "    '../setData/original_data_set/train/angry',\n",
    "    '../setData/original_data_set/train/disgust',\n",
    "    '../setData/original_data_set/train/fear',\n",
    "    '../setData/original_data_set/train/happy',\n",
    "    '../setData/original_data_set/train/neutral',\n",
    "    '../setData/original_data_set/train/sad',\n",
    "    '../setData/original_data_set/train/surprise'\n",
    "]\n",
    "\n",
    "test_data_path = [\n",
    "    '../setData/original_data_set/test/angry',\n",
    "    '../setData/original_data_set/test/disgust',\n",
    "    '../setData/original_data_set/test/fear',\n",
    "    '../setData/original_data_set/test/happy',\n",
    "    '../setData/original_data_set/test/neutral',\n",
    "    '../setData/original_data_set/test/sad',\n",
    "    '../setData/original_data_set/test/surprise'\n",
    "]\n"
   ]
  },
  {
   "cell_type": "code",
   "execution_count": null,
   "metadata": {},
   "outputs": [],
   "source": [
    "def process_train_data(train_data_path, write_path=\"../setData/processed_data_set/train/data.npy\", test=True):\n",
    "    processed_dataset = []\n",
    "    for path in train_data_path:\n",
    "        # Assuming each path is a directory containing multiple PNG images\n",
    "        processed_dataset = read_png_to_gray_matrix(path, processed_dataset)\n",
    "\n",
    "    # Shuffle the training dataset\n",
    "    np.random.shuffle(processed_dataset)\n",
    "\n",
    "    # Save the processed dataset\n",
    "    np.save(write_path, processed_dataset, allow_pickle=True)\n",
    "\n",
    "    # Test output, can be set to False if not needed\n",
    "    if test:\n",
    "        check = np.load(write_path, allow_pickle=True)\n",
    "        print(check[:10])\n",
    "\n",
    "\n",
    "def process_test_data(test_data_path, write_path=\"../setData/processed_data_set/test/data.npy\", test=True):\n",
    "    processed_dataset = []\n",
    "    for path in test_data_path:\n",
    "        # Assuming each path is a directory containing multiple PNG images\n",
    "        processed_dataset = read_png_to_gray_matrix(path, processed_dataset)\n",
    "\n",
    "    # Optionally shuffle the test dataset - usually, you wouldn't shuffle test data\n",
    "    # np.random.shuffle(processed_dataset) # Commenting this out as it's typically not done for test sets\n",
    "\n",
    "    # Save the processed dataset\n",
    "    np.save(write_path, processed_dataset, allow_pickle=True)\n",
    "\n",
    "    # Test output, can be set to False if not needed\n",
    "    if test:\n",
    "        check = np.load(write_path, allow_pickle=True)\n",
    "        print(check[:5])"
   ]
  },
  {
   "cell_type": "code",
   "execution_count": null,
   "metadata": {},
   "outputs": [],
   "source": [
    "process_train_data(train_data_path)\n",
    "process_test_data(test_data_path)"
   ]
  },
  {
   "cell_type": "markdown",
   "metadata": {},
   "source": [
    "## Dataset Visualization"
   ]
  },
  {
   "cell_type": "code",
   "execution_count": null,
   "metadata": {},
   "outputs": [],
   "source": [
    "# load training data from dataset\n",
    "data_path = \"../setData/processed_data_set/train/data.npy\"\n",
    "data = np.load(data_path, allow_pickle=True)\n",
    "\n",
    "# convert dataset to dataframe\n",
    "df = pd.DataFrame([{'emotion': d['label'], 'pixels': d['matrix'].flatten()} for d in data])\n",
    "\n",
    "# check traning dataset shape & preview first 5 rows of training data\n",
    "df.shape\n",
    "df.head(5)\n"
   ]
  },
  {
   "cell_type": "code",
   "execution_count": null,
   "metadata": {},
   "outputs": [],
   "source": [
    "emotion_counts = df['emotion'].value_counts().reset_index()\n",
    "emotion_counts.columns = ['emotion', 'number']\n",
    "print(emotion_counts)"
   ]
  },
  {
   "cell_type": "code",
   "execution_count": null,
   "metadata": {},
   "outputs": [],
   "source": [
    "# Sort emotions by the number of images\n",
    "emotion_counts_sorted = emotion_counts.sort_values(by='number', ascending=True)\n",
    "\n",
    "# Generate a gradient of colors from light blue to blue\n",
    "colors = sns.color_palette(\"Blues\", len(emotion_counts_sorted))\n",
    "\n",
    "# Plotting the bar graph with sorted emotions and gradient colors\n",
    "plt.figure(figsize=(10, 4.5))\n",
    "sns.barplot(x='emotion', y='number', data=emotion_counts_sorted, palette=colors)\n",
    "plt.title('Class Distribution')\n",
    "plt.ylabel('Number', fontsize=12)\n",
    "plt.xlabel('Emotions', fontsize=12)\n",
    "plt.xticks(rotation=45) # If necessary, to improve label readability\n",
    "plt.show()"
   ]
  },
  {
   "cell_type": "markdown",
   "metadata": {},
   "source": []
  }
 ],
 "metadata": {
  "kernelspec": {
   "display_name": "Python 3",
   "language": "python",
   "name": "python3"
  },
  "language_info": {
   "codemirror_mode": {
    "name": "ipython",
    "version": 3
   },
   "file_extension": ".py",
   "mimetype": "text/x-python",
   "name": "python",
   "nbconvert_exporter": "python",
   "pygments_lexer": "ipython3",
   "version": "3.12.2"
  }
 },
 "nbformat": 4,
 "nbformat_minor": 2
}
