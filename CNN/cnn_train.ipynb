{
 "cells": [
  {
   "cell_type": "markdown",
   "metadata": {},
   "source": [
    "## Import Libraries"
   ]
  },
  {
   "cell_type": "code",
   "execution_count": 99,
   "metadata": {},
   "outputs": [],
   "source": [
    "import numpy as np  # linear algebra\n",
    "import pandas as pd # data processing CSV file\n",
    "import matplotlib.pyplot as plt\n",
    "import seaborn as sns\n",
    "from sklearn.metrics import confusion_matrix\n",
    "from tensorflow.keras.models import Sequential\n",
    "from tensorflow.keras import layers\n",
    "from tensorflow.keras.layers import Conv2D, MaxPooling2D, Flatten, Dense\n",
    "from tensorflow.keras.optimizers import Adam\n",
    "from tensorflow.keras.utils import to_categorical\n",
    "from sklearn.model_selection import train_test_split\n",
    "import os\n",
    "from PIL import Image"
   ]
  },
  {
   "cell_type": "markdown",
   "metadata": {},
   "source": [
    "## Dataset Preprocessing"
   ]
  },
  {
   "cell_type": "markdown",
   "metadata": {},
   "source": [
    "- Reshape to grayscale image &\n",
    "- Split data into training and test sets\n",
    "- Add emotional labels "
   ]
  },
  {
   "cell_type": "code",
   "execution_count": 95,
   "metadata": {},
   "outputs": [],
   "source": [
    "def read_png_to_gray_matrix(folder_path, processed_dataset):\n",
    "    for filename in os.listdir(folder_path):\n",
    "        if filename.endswith('.jpg'):\n",
    "            file_path = os.path.join(folder_path, filename)\n",
    "            image = Image.open(file_path)\n",
    "            gray_matrix = image.convert('L')\n",
    "            dic = {\"label\": label_generate(folder_path), \"matrix\": np.asarray(gray_matrix)}\n",
    "            processed_dataset.append(dic)\n",
    "    return processed_dataset"
   ]
  },
  {
   "cell_type": "code",
   "execution_count": 98,
   "metadata": {},
   "outputs": [],
   "source": [
    "\n",
    "def label_generate(path):\n",
    "    if path == train_data_path[0] or path == test_data_path[0]:\n",
    "        label = \"angry\"\n",
    "        return label\n",
    "    if path == train_data_path[1] or path == test_data_path[1]:\n",
    "        label = \"disgust\"\n",
    "        return label\n",
    "    if path == train_data_path[2] or path == test_data_path[2]:\n",
    "        label = \"fear\"\n",
    "        return label\n",
    "    if path == train_data_path[3] or path == test_data_path[3]:\n",
    "        label = \"happy\"\n",
    "        return label\n",
    "    if path == train_data_path[4] or path == test_data_path[4]:\n",
    "        label = \"neutral\"\n",
    "        return label\n",
    "    if path == train_data_path[5] or path == test_data_path[5]:\n",
    "        label = \"sad\"\n",
    "        return label\n",
    "    if path == train_data_path[6] or path == test_data_path[6]:\n",
    "        label = \"surprise\"\n",
    "        return label\n",
    "    else:\n",
    "        raise ValueError(\"Invalid path\")\n"
   ]
  },
  {
   "cell_type": "code",
   "execution_count": 97,
   "metadata": {},
   "outputs": [],
   "source": [
    "train_data_path = [\n",
    "    '../setData/original_data_set/train/angry',\n",
    "    '../setData/original_data_set/train/disgust',\n",
    "    '../setData/original_data_set/train/fear',\n",
    "    '../setData/original_data_set/train/happy',\n",
    "    '../setData/original_data_set/train/neutral',\n",
    "    '../setData/original_data_set/train/sad',\n",
    "    '../setData/original_data_set/train/surprise'\n",
    "]\n",
    "\n",
    "test_data_path = [\n",
    "    '../setData/original_data_set/test/angry',\n",
    "    '../setData/original_data_set/test/disgust',\n",
    "    '../setData/original_data_set/test/fear',\n",
    "    '../setData/original_data_set/test/happy',\n",
    "    '../setData/original_data_set/test/neutral',\n",
    "    '../setData/original_data_set/test/sad',\n",
    "    '../setData/original_data_set/test/surprise'\n",
    "]\n"
   ]
  },
  {
   "cell_type": "code",
   "execution_count": 96,
   "metadata": {},
   "outputs": [],
   "source": [
    "def process_train_data(train_data_path, write_path=\"../setData/processed_data_set/train/data.npy\", test=True):\n",
    "    processed_dataset = []\n",
    "    for path in train_data_path:\n",
    "        # Assuming each path is a directory containing multiple PNG images\n",
    "        processed_dataset = read_png_to_gray_matrix(path, processed_dataset)\n",
    "\n",
    "    # Shuffle the training dataset\n",
    "    np.random.shuffle(processed_dataset)\n",
    "\n",
    "    # Save the processed dataset\n",
    "    np.save(write_path, processed_dataset, allow_pickle=True)\n",
    "\n",
    "    # Test output, can be set to False if not needed\n",
    "    if test:\n",
    "        check = np.load(write_path, allow_pickle=True)\n",
    "        print(check[:10])\n",
    "\n",
    "\n",
    "def process_test_data(test_data_path, write_path=\"../setData/processed_data_set/test/data.npy\", test=True):\n",
    "    processed_dataset = []\n",
    "    for path in test_data_path:\n",
    "        # Assuming each path is a directory containing multiple PNG images\n",
    "        processed_dataset = read_png_to_gray_matrix(path, processed_dataset)\n",
    "\n",
    "    # Optionally shuffle the test dataset - usually, you wouldn't shuffle test data\n",
    "    # np.random.shuffle(processed_dataset) # Commenting this out as it's typically not done for test sets\n",
    "\n",
    "    # Save the processed dataset\n",
    "    np.save(write_path, processed_dataset, allow_pickle=True)\n",
    "\n",
    "    # Test output, can be set to False if not needed\n",
    "    if test:\n",
    "        check = np.load(write_path, allow_pickle=True)\n",
    "        print(check[:5])"
   ]
  },
  {
   "cell_type": "code",
   "execution_count": 103,
   "metadata": {},
   "outputs": [
    {
     "name": "stdout",
     "output_type": "stream",
     "text": [
      "[{'label': 'fear', 'matrix': array([[253, 255, 254, ...,  32,  33,  35],\n",
      "        [255, 253, 254, ...,  38,  36,  32],\n",
      "        [253, 253, 253, ...,  31,  34,  36],\n",
      "        ...,\n",
      "        [253, 255, 254, ..., 162, 167, 191],\n",
      "        [254, 254, 249, ..., 159, 157, 192],\n",
      "        [255, 251, 251, ..., 157, 173, 221]], dtype=uint8)}\n",
      " {'label': 'fear', 'matrix': array([[255, 255, 255, ..., 138, 121, 130],\n",
      "        [255, 255, 255, ..., 125, 120, 105],\n",
      "        [255, 255, 255, ...,  98, 122, 106],\n",
      "        ...,\n",
      "        [188, 195, 202, ...,  43,  77, 141],\n",
      "        [192, 194, 185, ..., 116, 184, 213],\n",
      "        [188, 192, 183, ..., 209, 215, 215]], dtype=uint8)}\n",
      " {'label': 'fear', 'matrix': array([[176, 199, 171, ..., 106,  51,  42],\n",
      "        [187, 173, 196, ..., 124,  63,  42],\n",
      "        [188, 171, 159, ..., 148, 108,  62],\n",
      "        ...,\n",
      "        [ 42, 155, 172, ...,  39,  47,  51],\n",
      "        [ 36, 144, 165, ...,  43,  51,  54],\n",
      "        [ 37, 142, 157, ...,  48,  56,  58]], dtype=uint8)}\n",
      " {'label': 'fear', 'matrix': array([[ 0,  4,  3, ...,  8,  7,  2],\n",
      "        [ 4,  6,  4, ...,  8,  6,  4],\n",
      "        [ 5,  5,  4, ...,  6,  5,  5],\n",
      "        ...,\n",
      "        [ 3,  3,  2, ..., 13, 11, 13],\n",
      "        [ 2,  3,  3, ..., 11, 13, 15],\n",
      "        [ 0,  3,  3, ...,  6, 12, 10]], dtype=uint8)}\n",
      " {'label': 'sad', 'matrix': array([[ 88,  85,  84, ..., 144, 157, 160],\n",
      "        [ 90,  88,  87, ..., 141, 147, 147],\n",
      "        [ 87,  87,  87, ..., 140, 140, 141],\n",
      "        ...,\n",
      "        [179, 179, 178, ..., 170, 167, 100],\n",
      "        [180, 176, 172, ..., 159,  75,  30],\n",
      "        [178, 173, 167, ...,  68,  38,  51]], dtype=uint8)}\n",
      " {'label': 'happy', 'matrix': array([[206, 208, 210, ..., 218, 216, 221],\n",
      "        [206, 208, 210, ..., 220, 217, 217],\n",
      "        [208, 209, 210, ..., 218, 217, 217],\n",
      "        ...,\n",
      "        [ 46,  57,  49, ...,  56,  63,  97],\n",
      "        [ 51,  54,  44, ...,  57,  61,  87],\n",
      "        [ 52,  51,  40, ...,  62,  61,  81]], dtype=uint8)}\n",
      " {'label': 'happy', 'matrix': array([[244, 245, 243, ..., 234, 230, 233],\n",
      "        [244, 244, 242, ..., 232, 233, 232],\n",
      "        [243, 244, 234, ..., 232, 232, 232],\n",
      "        ...,\n",
      "        [ 44,  33,  19, ..., 101, 210, 246],\n",
      "        [ 31,  25,  22, ..., 126, 244, 234],\n",
      "        [ 25,  57,  31, ..., 128, 235, 240]], dtype=uint8)}\n",
      " {'label': 'sad', 'matrix': array([[106,  85, 104, ..., 156, 162, 165],\n",
      "        [112,  87,  98, ..., 158, 158, 156],\n",
      "        [108,  95, 100, ..., 156, 159, 161],\n",
      "        ...,\n",
      "        [ 82,   3,   0, ...,  62, 102,  91],\n",
      "        [ 82,   3,   0, ...,  78,  71,  85],\n",
      "        [ 82,   4,   2, ...,  99,  57,  70]], dtype=uint8)}\n",
      " {'label': 'fear', 'matrix': array([[170, 169, 171, ..., 165, 160, 162],\n",
      "        [170, 175, 178, ..., 156, 142, 150],\n",
      "        [169, 171, 177, ..., 133, 117, 129],\n",
      "        ...,\n",
      "        [130, 137, 138, ...,  24,  22,  22],\n",
      "        [130, 133, 136, ...,  24,  22,  22],\n",
      "        [127, 129, 133, ...,  20,  23,  23]], dtype=uint8)}\n",
      " {'label': 'happy', 'matrix': array([[139, 142, 137, ..., 201, 186, 162],\n",
      "        [138, 136, 130, ..., 174, 159, 143],\n",
      "        [135, 134, 129, ..., 144, 134, 124],\n",
      "        ...,\n",
      "        [ 28,  23,  12, ..., 107, 174, 183],\n",
      "        [ 28,  15,  17, ..., 120, 130, 176],\n",
      "        [ 15,  19,  23, ..., 133, 128, 161]], dtype=uint8)}              ]\n",
      "[{'label': 'angry', 'matrix': array([[83, 75, 62, ..., 31, 31, 31],\n",
      "        [61, 53, 53, ..., 31, 31, 32],\n",
      "        [43, 38, 34, ..., 36, 30, 27],\n",
      "        ...,\n",
      "        [21, 20, 20, ..., 10, 11, 16],\n",
      "        [24, 22, 20, ..., 17, 11,  7],\n",
      "        [22, 21, 15, ..., 12,  9, 10]], dtype=uint8)}\n",
      " {'label': 'angry', 'matrix': array([[127, 126, 123, ...,  62,  63,  50],\n",
      "        [129, 127, 125, ...,  61,  65,  56],\n",
      "        [131, 128, 127, ...,  60,  56,  57],\n",
      "        ...,\n",
      "        [206, 197, 207, ...,  17,  14,  29],\n",
      "        [201, 196, 222, ...,  33,  14,  26],\n",
      "        [191, 205, 239, ..., 128,  97,  78]], dtype=uint8)}\n",
      " {'label': 'angry', 'matrix': array([[250, 251, 251, ..., 250, 250, 249],\n",
      "        [250, 251, 250, ..., 245, 251, 251],\n",
      "        [249, 251, 250, ..., 255, 245, 249],\n",
      "        ...,\n",
      "        [151, 150, 155, ...,  66, 107,  95],\n",
      "        [150, 152, 159, ...,  89, 107,  86],\n",
      "        [153, 153, 158, ..., 108,  98,  85]], dtype=uint8)}\n",
      " {'label': 'angry', 'matrix': array([[ 94, 183, 202, ...,   3,   1,   4],\n",
      "        [157, 192, 203, ...,   0,   3,   2],\n",
      "        [180, 198, 207, ...,   0,   4,   4],\n",
      "        ...,\n",
      "        [  3,   0,   0, ...,   6,  11,  16],\n",
      "        [  0,   0,   2, ...,   9,  11,  17],\n",
      "        [  0,   3,   3, ...,  12,  14,  24]], dtype=uint8)}\n",
      " {'label': 'angry', 'matrix': array([[ 73,  78,  86, ..., 147, 155, 158],\n",
      "        [ 70,  87,  96, ..., 145, 154, 157],\n",
      "        [ 88,  90, 108, ..., 142, 152, 156],\n",
      "        ...,\n",
      "        [ 69,  64,  63, ...,  85,  81,  76],\n",
      "        [ 69,  66,  66, ...,  83,  80,  74],\n",
      "        [ 69,  67,  64, ...,  81,  79,  74]], dtype=uint8)}              ]\n"
     ]
    }
   ],
   "source": [
    "process_train_data(train_data_path)\n",
    "process_test_data(test_data_path)"
   ]
  },
  {
   "cell_type": "markdown",
   "metadata": {},
   "source": [
    "## Dataset Visualization"
   ]
  },
  {
   "cell_type": "code",
   "execution_count": 100,
   "metadata": {},
   "outputs": [
    {
     "data": {
      "text/html": [
       "<div>\n",
       "<style scoped>\n",
       "    .dataframe tbody tr th:only-of-type {\n",
       "        vertical-align: middle;\n",
       "    }\n",
       "\n",
       "    .dataframe tbody tr th {\n",
       "        vertical-align: top;\n",
       "    }\n",
       "\n",
       "    .dataframe thead th {\n",
       "        text-align: right;\n",
       "    }\n",
       "</style>\n",
       "<table border=\"1\" class=\"dataframe\">\n",
       "  <thead>\n",
       "    <tr style=\"text-align: right;\">\n",
       "      <th></th>\n",
       "      <th>emotion</th>\n",
       "      <th>pixels</th>\n",
       "    </tr>\n",
       "  </thead>\n",
       "  <tbody>\n",
       "    <tr>\n",
       "      <th>0</th>\n",
       "      <td>angry</td>\n",
       "      <td>[253, 238, 193, 101, 72, 80, 124, 146, 142, 14...</td>\n",
       "    </tr>\n",
       "    <tr>\n",
       "      <th>1</th>\n",
       "      <td>sad</td>\n",
       "      <td>[65, 49, 52, 56, 14, 19, 11, 8, 10, 12, 11, 12...</td>\n",
       "    </tr>\n",
       "    <tr>\n",
       "      <th>2</th>\n",
       "      <td>neutral</td>\n",
       "      <td>[176, 129, 60, 64, 64, 67, 74, 82, 91, 91, 93,...</td>\n",
       "    </tr>\n",
       "    <tr>\n",
       "      <th>3</th>\n",
       "      <td>neutral</td>\n",
       "      <td>[48, 46, 34, 31, 30, 23, 26, 33, 47, 45, 42, 4...</td>\n",
       "    </tr>\n",
       "    <tr>\n",
       "      <th>4</th>\n",
       "      <td>surprise</td>\n",
       "      <td>[228, 232, 231, 230, 232, 227, 229, 112, 77, 9...</td>\n",
       "    </tr>\n",
       "  </tbody>\n",
       "</table>\n",
       "</div>"
      ],
      "text/plain": [
       "    emotion                                             pixels\n",
       "0     angry  [253, 238, 193, 101, 72, 80, 124, 146, 142, 14...\n",
       "1       sad  [65, 49, 52, 56, 14, 19, 11, 8, 10, 12, 11, 12...\n",
       "2   neutral  [176, 129, 60, 64, 64, 67, 74, 82, 91, 91, 93,...\n",
       "3   neutral  [48, 46, 34, 31, 30, 23, 26, 33, 47, 45, 42, 4...\n",
       "4  surprise  [228, 232, 231, 230, 232, 227, 229, 112, 77, 9..."
      ]
     },
     "execution_count": 100,
     "metadata": {},
     "output_type": "execute_result"
    }
   ],
   "source": [
    "# load training data from dataset\n",
    "data_path = \"../setData/processed_data_set/train/data.npy\"\n",
    "data = np.load(data_path, allow_pickle=True)\n",
    "\n",
    "# convert dataset to dataframe\n",
    "df = pd.DataFrame([{'emotion': d['label'], 'pixels': d['matrix'].flatten()} for d in data])\n",
    "\n",
    "# check traning dataset shape & preview first 5 rows of training data\n",
    "df.shape\n",
    "df.head(5)\n"
   ]
  },
  {
   "cell_type": "code",
   "execution_count": 102,
   "metadata": {},
   "outputs": [
    {
     "name": "stdout",
     "output_type": "stream",
     "text": [
      "    emotion  number\n",
      "0     happy    7215\n",
      "1   neutral    4965\n",
      "2       sad    4830\n",
      "3      fear    4097\n",
      "4     angry    3995\n",
      "5  surprise    3171\n",
      "6   disgust     436\n"
     ]
    }
   ],
   "source": [
    "emotion_counts = df['emotion'].value_counts().reset_index()\n",
    "emotion_counts.columns = ['emotion', 'number']\n",
    "print(emotion_counts)"
   ]
  },
  {
   "cell_type": "code",
   "execution_count": 101,
   "metadata": {},
   "outputs": [
    {
     "name": "stderr",
     "output_type": "stream",
     "text": [
      "/var/folders/6h/7snzfhy12zq8rv3fvwh7h4b80000gn/T/ipykernel_6703/1779081672.py:9: FutureWarning: \n",
      "\n",
      "Passing `palette` without assigning `hue` is deprecated and will be removed in v0.14.0. Assign the `x` variable to `hue` and set `legend=False` for the same effect.\n",
      "\n",
      "  sns.barplot(x='emotion', y='number', data=emotion_counts_sorted, palette=colors)\n"
     ]
    },
    {
     "data": {
      "image/png": "[encoded data removed]",
      "text/plain": [
       "<Figure size 1000x450 with 1 Axes>"
      ]
     },
     "metadata": {},
     "output_type": "display_data"
    }
   ],
   "source": [
    "# Sort emotions by the number of images\n",
    "emotion_counts_sorted = emotion_counts.sort_values(by='number', ascending=True)\n",
    "\n",
    "# Generate a gradient of colors from light blue to blue\n",
    "colors = sns.color_palette(\"Blues\", len(emotion_counts_sorted))\n",
    "\n",
    "# Plotting the bar graph with sorted emotions and gradient colors\n",
    "plt.figure(figsize=(10, 4.5))\n",
    "sns.barplot(x='emotion', y='number', data=emotion_counts_sorted, palette=colors)\n",
    "plt.title('Class Distribution')\n",
    "plt.ylabel('Number', fontsize=12)\n",
    "plt.xlabel('Emotions', fontsize=12)\n",
    "plt.xticks(rotation=45) # If necessary, to improve label readability\n",
    "plt.show()"
   ]
  },
  {
   "cell_type": "markdown",
   "metadata": {},
   "source": [
    "## CNN Model"
   ]
  },
  {
   "cell_type": "code",
   "execution_count": 105,
   "metadata": {},
   "outputs": [],
   "source": [
    "import numpy as np\n",
    "import tensorflow as tf\n",
    "from tensorflow.keras import layers, models\n",
    "from tensorflow.keras.optimizers import Adam\n",
    "from tensorflow.keras.layers import Dropout"
   ]
  },
  {
   "cell_type": "code",
   "execution_count": 106,
   "metadata": {},
   "outputs": [],
   "source": [
    "# CNN模型\n",
    "def cnn_model(input_shape, num_classes):\n",
    "    model = models.Sequential([\n",
    "        # Convolutional and pooling layers\n",
    "        layers.Conv2D(32, (3, 3), activation='relu', input_shape=input_shape),\n",
    "        layers.MaxPooling2D((2, 2)),\n",
    "        layers.Conv2D(64, (3, 3), activation='relu'),\n",
    "        layers.MaxPooling2D((2, 2)),\n",
    "        layers.Conv2D(128, (3, 3), activation='relu'),\n",
    "        layers.MaxPooling2D((2, 2)),\n",
    "        # Flattening the 3D outputs to 1D and adding dense layers\n",
    "        layers.Flatten(),\n",
    "        layers.Dense(128, activation='relu'),\n",
    "        layers.Dense(64, activation='relu'),\n",
    "        layers.Dropout(0.5),\n",
    "        # Output layer\n",
    "        layers.Dense(num_classes, activation='softmax')\n",
    "    ])\n",
    "    return model\n",
    "\n",
    "# Label to number mapping\n",
    "def label_generate(label):\n",
    "    labels_dict = {\"angry\": 0, \"disgust\": 1, \"fear\": 2, \"happy\": 3, \n",
    "                   \"neutral\": 4, \"sad\": 5, \"surprise\": 6}\n",
    "    return labels_dict.get(label, None)\n"
   ]
  },
  {
   "cell_type": "code",
   "execution_count": 109,
   "metadata": {},
   "outputs": [
    {
     "name": "stderr",
     "output_type": "stream",
     "text": [
      "/Users/ericsheng495/anaconda3/envs/facial-recog/lib/python3.12/site-packages/keras/src/layers/convolutional/base_conv.py:99: UserWarning: Do not pass an `input_shape`/`input_dim` argument to a layer. When using Sequential models, prefer using an `Input(shape)` object as the first layer in the model instead.\n",
      "  super().__init__(\n"
     ]
    }
   ],
   "source": [
    "# Model parameters\n",
    "input_shape = (48, 48, 1)\n",
    "num_classes = 7\n",
    "\n",
    "# Build the CNN model\n",
    "model = cnn_model(input_shape, num_classes)\n",
    "\n",
    "# Load data (paths may need to be adjusted based on your directory structure)\n",
    "train_data_path = \"../setData/processed_data_set/train/data.npy\"\n",
    "train_data = np.load(train_data_path, allow_pickle=True)\n",
    "test_data_path = \"../setData/processed_data_set/test/data.npy\"\n",
    "test_data = np.load(test_data_path, allow_pickle=True)\n",
    "\n",
    "# Compile the model\n",
    "model.compile(optimizer=Adam(learning_rate=0.001),\n",
    "              loss='sparse_categorical_crossentropy',\n",
    "              metrics=['accuracy'])\n",
    "\n",
    "# Prepare the data for training\n",
    "image_matrix = np.array([item['matrix'] for item in train_data]).reshape(-1, 48, 48, 1)\n",
    "labels = np.array([label_generate(item['label']) for item in train_data])\n",
    "test_image_matrix = np.array([item['matrix'] for item in test_data]).reshape(-1, 48, 48, 1)\n",
    "test_labels = np.array([label_generate(item['label']) for item in test_data])\n"
   ]
  },
  {
   "cell_type": "code",
   "execution_count": 110,
   "metadata": {},
   "outputs": [
    {
     "name": "stdout",
     "output_type": "stream",
     "text": [
      "Epoch 1/30\n",
      "\u001b[1m449/449\u001b[0m \u001b[32m━━━━━━━━━━━━━━━━━━━━\u001b[0m\u001b[37m\u001b[0m \u001b[1m11s\u001b[0m 23ms/step - accuracy: 0.2282 - loss: 2.4531 - val_accuracy: 0.4012 - val_loss: 1.5873\n",
      "Epoch 2/30\n",
      "\u001b[1m449/449\u001b[0m \u001b[32m━━━━━━━━━━━━━━━━━━━━\u001b[0m\u001b[37m\u001b[0m \u001b[1m10s\u001b[0m 22ms/step - accuracy: 0.3648 - loss: 1.6203 - val_accuracy: 0.4347 - val_loss: 1.4634\n",
      "Epoch 3/30\n",
      "\u001b[1m449/449\u001b[0m \u001b[32m━━━━━━━━━━━━━━━━━━━━\u001b[0m\u001b[37m\u001b[0m \u001b[1m10s\u001b[0m 23ms/step - accuracy: 0.4312 - loss: 1.4827 - val_accuracy: 0.4574 - val_loss: 1.3998\n",
      "Epoch 4/30\n",
      "\u001b[1m449/449\u001b[0m \u001b[32m━━━━━━━━━━━━━━━━━━━━\u001b[0m\u001b[37m\u001b[0m \u001b[1m10s\u001b[0m 23ms/step - accuracy: 0.4590 - loss: 1.4077 - val_accuracy: 0.4922 - val_loss: 1.3233\n",
      "Epoch 5/30\n",
      "\u001b[1m205/449\u001b[0m \u001b[32m━━━━━━━━━\u001b[0m\u001b[37m━━━━━━━━━━━\u001b[0m \u001b[1m5s\u001b[0m 22ms/step - accuracy: 0.4935 - loss: 1.3202"
     ]
    },
    {
     "ename": "KeyboardInterrupt",
     "evalue": "",
     "output_type": "error",
     "traceback": [
      "\u001b[0;31m---------------------------------------------------------------------------\u001b[0m",
      "\u001b[0;31mKeyboardInterrupt\u001b[0m                         Traceback (most recent call last)",
      "Cell \u001b[0;32mIn[110], line 2\u001b[0m\n\u001b[1;32m      1\u001b[0m \u001b[38;5;66;03m# Train the model\u001b[39;00m\n\u001b[0;32m----> 2\u001b[0m history \u001b[38;5;241m=\u001b[39m \u001b[43mmodel\u001b[49m\u001b[38;5;241;43m.\u001b[39;49m\u001b[43mfit\u001b[49m\u001b[43m(\u001b[49m\u001b[43mimage_matrix\u001b[49m\u001b[43m,\u001b[49m\u001b[43m \u001b[49m\u001b[43mlabels\u001b[49m\u001b[43m,\u001b[49m\n\u001b[1;32m      3\u001b[0m \u001b[43m                    \u001b[49m\u001b[43mepochs\u001b[49m\u001b[38;5;241;43m=\u001b[39;49m\u001b[38;5;241;43m30\u001b[39;49m\u001b[43m,\u001b[49m\n\u001b[1;32m      4\u001b[0m \u001b[43m                    \u001b[49m\u001b[43mbatch_size\u001b[49m\u001b[38;5;241;43m=\u001b[39;49m\u001b[38;5;241;43m64\u001b[39;49m\u001b[43m,\u001b[49m\n\u001b[1;32m      5\u001b[0m \u001b[43m                    \u001b[49m\u001b[43mvalidation_data\u001b[49m\u001b[38;5;241;43m=\u001b[39;49m\u001b[43m(\u001b[49m\u001b[43mtest_image_matrix\u001b[49m\u001b[43m,\u001b[49m\u001b[43m \u001b[49m\u001b[43mtest_labels\u001b[49m\u001b[43m)\u001b[49m\u001b[43m)\u001b[49m\n\u001b[1;32m      7\u001b[0m \u001b[38;5;66;03m# Save the model\u001b[39;00m\n\u001b[1;32m      8\u001b[0m model\u001b[38;5;241m.\u001b[39msave(\u001b[38;5;124m\"\u001b[39m\u001b[38;5;124mmodel/trained_cnn_model.h5\u001b[39m\u001b[38;5;124m\"\u001b[39m)\n",
      "File \u001b[0;32m~/anaconda3/envs/facial-recog/lib/python3.12/site-packages/keras/src/utils/traceback_utils.py:117\u001b[0m, in \u001b[0;36mfilter_traceback.<locals>.error_handler\u001b[0;34m(*args, **kwargs)\u001b[0m\n\u001b[1;32m    115\u001b[0m filtered_tb \u001b[38;5;241m=\u001b[39m \u001b[38;5;28;01mNone\u001b[39;00m\n\u001b[1;32m    116\u001b[0m \u001b[38;5;28;01mtry\u001b[39;00m:\n\u001b[0;32m--> 117\u001b[0m     \u001b[38;5;28;01mreturn\u001b[39;00m \u001b[43mfn\u001b[49m\u001b[43m(\u001b[49m\u001b[38;5;241;43m*\u001b[39;49m\u001b[43margs\u001b[49m\u001b[43m,\u001b[49m\u001b[43m \u001b[49m\u001b[38;5;241;43m*\u001b[39;49m\u001b[38;5;241;43m*\u001b[39;49m\u001b[43mkwargs\u001b[49m\u001b[43m)\u001b[49m\n\u001b[1;32m    118\u001b[0m \u001b[38;5;28;01mexcept\u001b[39;00m \u001b[38;5;167;01mException\u001b[39;00m \u001b[38;5;28;01mas\u001b[39;00m e:\n\u001b[1;32m    119\u001b[0m     filtered_tb \u001b[38;5;241m=\u001b[39m _process_traceback_frames(e\u001b[38;5;241m.\u001b[39m__traceback__)\n",
      "File \u001b[0;32m~/anaconda3/envs/facial-recog/lib/python3.12/site-packages/keras/src/backend/tensorflow/trainer.py:325\u001b[0m, in \u001b[0;36mTensorFlowTrainer.fit\u001b[0;34m(self, x, y, batch_size, epochs, verbose, callbacks, validation_split, validation_data, shuffle, class_weight, sample_weight, initial_epoch, steps_per_epoch, validation_steps, validation_batch_size, validation_freq)\u001b[0m\n\u001b[1;32m    323\u001b[0m \u001b[38;5;28;01mfor\u001b[39;00m step, iterator \u001b[38;5;129;01min\u001b[39;00m epoch_iterator\u001b[38;5;241m.\u001b[39menumerate_epoch():\n\u001b[1;32m    324\u001b[0m     callbacks\u001b[38;5;241m.\u001b[39mon_train_batch_begin(step)\n\u001b[0;32m--> 325\u001b[0m     logs \u001b[38;5;241m=\u001b[39m \u001b[38;5;28;43mself\u001b[39;49m\u001b[38;5;241;43m.\u001b[39;49m\u001b[43mtrain_function\u001b[49m\u001b[43m(\u001b[49m\u001b[43miterator\u001b[49m\u001b[43m)\u001b[49m\n\u001b[1;32m    326\u001b[0m     callbacks\u001b[38;5;241m.\u001b[39mon_train_batch_end(\n\u001b[1;32m    327\u001b[0m         step, \u001b[38;5;28mself\u001b[39m\u001b[38;5;241m.\u001b[39m_pythonify_logs(logs)\n\u001b[1;32m    328\u001b[0m     )\n\u001b[1;32m    329\u001b[0m     \u001b[38;5;28;01mif\u001b[39;00m \u001b[38;5;28mself\u001b[39m\u001b[38;5;241m.\u001b[39mstop_training:\n",
      "File \u001b[0;32m~/anaconda3/envs/facial-recog/lib/python3.12/site-packages/tensorflow/python/util/traceback_utils.py:150\u001b[0m, in \u001b[0;36mfilter_traceback.<locals>.error_handler\u001b[0;34m(*args, **kwargs)\u001b[0m\n\u001b[1;32m    148\u001b[0m filtered_tb \u001b[38;5;241m=\u001b[39m \u001b[38;5;28;01mNone\u001b[39;00m\n\u001b[1;32m    149\u001b[0m \u001b[38;5;28;01mtry\u001b[39;00m:\n\u001b[0;32m--> 150\u001b[0m   \u001b[38;5;28;01mreturn\u001b[39;00m \u001b[43mfn\u001b[49m\u001b[43m(\u001b[49m\u001b[38;5;241;43m*\u001b[39;49m\u001b[43margs\u001b[49m\u001b[43m,\u001b[49m\u001b[43m \u001b[49m\u001b[38;5;241;43m*\u001b[39;49m\u001b[38;5;241;43m*\u001b[39;49m\u001b[43mkwargs\u001b[49m\u001b[43m)\u001b[49m\n\u001b[1;32m    151\u001b[0m \u001b[38;5;28;01mexcept\u001b[39;00m \u001b[38;5;167;01mException\u001b[39;00m \u001b[38;5;28;01mas\u001b[39;00m e:\n\u001b[1;32m    152\u001b[0m   filtered_tb \u001b[38;5;241m=\u001b[39m _process_traceback_frames(e\u001b[38;5;241m.\u001b[39m__traceback__)\n",
      "File \u001b[0;32m~/anaconda3/envs/facial-recog/lib/python3.12/site-packages/tensorflow/python/eager/polymorphic_function/polymorphic_function.py:833\u001b[0m, in \u001b[0;36mFunction.__call__\u001b[0;34m(self, *args, **kwds)\u001b[0m\n\u001b[1;32m    830\u001b[0m compiler \u001b[38;5;241m=\u001b[39m \u001b[38;5;124m\"\u001b[39m\u001b[38;5;124mxla\u001b[39m\u001b[38;5;124m\"\u001b[39m \u001b[38;5;28;01mif\u001b[39;00m \u001b[38;5;28mself\u001b[39m\u001b[38;5;241m.\u001b[39m_jit_compile \u001b[38;5;28;01melse\u001b[39;00m \u001b[38;5;124m\"\u001b[39m\u001b[38;5;124mnonXla\u001b[39m\u001b[38;5;124m\"\u001b[39m\n\u001b[1;32m    832\u001b[0m \u001b[38;5;28;01mwith\u001b[39;00m OptionalXlaContext(\u001b[38;5;28mself\u001b[39m\u001b[38;5;241m.\u001b[39m_jit_compile):\n\u001b[0;32m--> 833\u001b[0m   result \u001b[38;5;241m=\u001b[39m \u001b[38;5;28;43mself\u001b[39;49m\u001b[38;5;241;43m.\u001b[39;49m\u001b[43m_call\u001b[49m\u001b[43m(\u001b[49m\u001b[38;5;241;43m*\u001b[39;49m\u001b[43margs\u001b[49m\u001b[43m,\u001b[49m\u001b[43m \u001b[49m\u001b[38;5;241;43m*\u001b[39;49m\u001b[38;5;241;43m*\u001b[39;49m\u001b[43mkwds\u001b[49m\u001b[43m)\u001b[49m\n\u001b[1;32m    835\u001b[0m new_tracing_count \u001b[38;5;241m=\u001b[39m \u001b[38;5;28mself\u001b[39m\u001b[38;5;241m.\u001b[39mexperimental_get_tracing_count()\n\u001b[1;32m    836\u001b[0m without_tracing \u001b[38;5;241m=\u001b[39m (tracing_count \u001b[38;5;241m==\u001b[39m new_tracing_count)\n",
      "File \u001b[0;32m~/anaconda3/envs/facial-recog/lib/python3.12/site-packages/tensorflow/python/eager/polymorphic_function/polymorphic_function.py:878\u001b[0m, in \u001b[0;36mFunction._call\u001b[0;34m(self, *args, **kwds)\u001b[0m\n\u001b[1;32m    875\u001b[0m \u001b[38;5;28mself\u001b[39m\u001b[38;5;241m.\u001b[39m_lock\u001b[38;5;241m.\u001b[39mrelease()\n\u001b[1;32m    876\u001b[0m \u001b[38;5;66;03m# In this case we have not created variables on the first call. So we can\u001b[39;00m\n\u001b[1;32m    877\u001b[0m \u001b[38;5;66;03m# run the first trace but we should fail if variables are created.\u001b[39;00m\n\u001b[0;32m--> 878\u001b[0m results \u001b[38;5;241m=\u001b[39m \u001b[43mtracing_compilation\u001b[49m\u001b[38;5;241;43m.\u001b[39;49m\u001b[43mcall_function\u001b[49m\u001b[43m(\u001b[49m\n\u001b[1;32m    879\u001b[0m \u001b[43m    \u001b[49m\u001b[43margs\u001b[49m\u001b[43m,\u001b[49m\u001b[43m \u001b[49m\u001b[43mkwds\u001b[49m\u001b[43m,\u001b[49m\u001b[43m \u001b[49m\u001b[38;5;28;43mself\u001b[39;49m\u001b[38;5;241;43m.\u001b[39;49m\u001b[43m_variable_creation_config\u001b[49m\n\u001b[1;32m    880\u001b[0m \u001b[43m\u001b[49m\u001b[43m)\u001b[49m\n\u001b[1;32m    881\u001b[0m \u001b[38;5;28;01mif\u001b[39;00m \u001b[38;5;28mself\u001b[39m\u001b[38;5;241m.\u001b[39m_created_variables:\n\u001b[1;32m    882\u001b[0m   \u001b[38;5;28;01mraise\u001b[39;00m \u001b[38;5;167;01mValueError\u001b[39;00m(\u001b[38;5;124m\"\u001b[39m\u001b[38;5;124mCreating variables on a non-first call to a function\u001b[39m\u001b[38;5;124m\"\u001b[39m\n\u001b[1;32m    883\u001b[0m                    \u001b[38;5;124m\"\u001b[39m\u001b[38;5;124m decorated with tf.function.\u001b[39m\u001b[38;5;124m\"\u001b[39m)\n",
      "File \u001b[0;32m~/anaconda3/envs/facial-recog/lib/python3.12/site-packages/tensorflow/python/eager/polymorphic_function/tracing_compilation.py:139\u001b[0m, in \u001b[0;36mcall_function\u001b[0;34m(args, kwargs, tracing_options)\u001b[0m\n\u001b[1;32m    137\u001b[0m bound_args \u001b[38;5;241m=\u001b[39m function\u001b[38;5;241m.\u001b[39mfunction_type\u001b[38;5;241m.\u001b[39mbind(\u001b[38;5;241m*\u001b[39margs, \u001b[38;5;241m*\u001b[39m\u001b[38;5;241m*\u001b[39mkwargs)\n\u001b[1;32m    138\u001b[0m flat_inputs \u001b[38;5;241m=\u001b[39m function\u001b[38;5;241m.\u001b[39mfunction_type\u001b[38;5;241m.\u001b[39munpack_inputs(bound_args)\n\u001b[0;32m--> 139\u001b[0m \u001b[38;5;28;01mreturn\u001b[39;00m \u001b[43mfunction\u001b[49m\u001b[38;5;241;43m.\u001b[39;49m\u001b[43m_call_flat\u001b[49m\u001b[43m(\u001b[49m\u001b[43m  \u001b[49m\u001b[38;5;66;43;03m# pylint: disable=protected-access\u001b[39;49;00m\n\u001b[1;32m    140\u001b[0m \u001b[43m    \u001b[49m\u001b[43mflat_inputs\u001b[49m\u001b[43m,\u001b[49m\u001b[43m \u001b[49m\u001b[43mcaptured_inputs\u001b[49m\u001b[38;5;241;43m=\u001b[39;49m\u001b[43mfunction\u001b[49m\u001b[38;5;241;43m.\u001b[39;49m\u001b[43mcaptured_inputs\u001b[49m\n\u001b[1;32m    141\u001b[0m \u001b[43m\u001b[49m\u001b[43m)\u001b[49m\n",
      "File \u001b[0;32m~/anaconda3/envs/facial-recog/lib/python3.12/site-packages/tensorflow/python/eager/polymorphic_function/concrete_function.py:1322\u001b[0m, in \u001b[0;36mConcreteFunction._call_flat\u001b[0;34m(self, tensor_inputs, captured_inputs)\u001b[0m\n\u001b[1;32m   1318\u001b[0m possible_gradient_type \u001b[38;5;241m=\u001b[39m gradients_util\u001b[38;5;241m.\u001b[39mPossibleTapeGradientTypes(args)\n\u001b[1;32m   1319\u001b[0m \u001b[38;5;28;01mif\u001b[39;00m (possible_gradient_type \u001b[38;5;241m==\u001b[39m gradients_util\u001b[38;5;241m.\u001b[39mPOSSIBLE_GRADIENT_TYPES_NONE\n\u001b[1;32m   1320\u001b[0m     \u001b[38;5;129;01mand\u001b[39;00m executing_eagerly):\n\u001b[1;32m   1321\u001b[0m   \u001b[38;5;66;03m# No tape is watching; skip to running the function.\u001b[39;00m\n\u001b[0;32m-> 1322\u001b[0m   \u001b[38;5;28;01mreturn\u001b[39;00m \u001b[38;5;28;43mself\u001b[39;49m\u001b[38;5;241;43m.\u001b[39;49m\u001b[43m_inference_function\u001b[49m\u001b[38;5;241;43m.\u001b[39;49m\u001b[43mcall_preflattened\u001b[49m\u001b[43m(\u001b[49m\u001b[43margs\u001b[49m\u001b[43m)\u001b[49m\n\u001b[1;32m   1323\u001b[0m forward_backward \u001b[38;5;241m=\u001b[39m \u001b[38;5;28mself\u001b[39m\u001b[38;5;241m.\u001b[39m_select_forward_and_backward_functions(\n\u001b[1;32m   1324\u001b[0m     args,\n\u001b[1;32m   1325\u001b[0m     possible_gradient_type,\n\u001b[1;32m   1326\u001b[0m     executing_eagerly)\n\u001b[1;32m   1327\u001b[0m forward_function, args_with_tangents \u001b[38;5;241m=\u001b[39m forward_backward\u001b[38;5;241m.\u001b[39mforward()\n",
      "File \u001b[0;32m~/anaconda3/envs/facial-recog/lib/python3.12/site-packages/tensorflow/python/eager/polymorphic_function/atomic_function.py:216\u001b[0m, in \u001b[0;36mAtomicFunction.call_preflattened\u001b[0;34m(self, args)\u001b[0m\n\u001b[1;32m    214\u001b[0m \u001b[38;5;28;01mdef\u001b[39;00m \u001b[38;5;21mcall_preflattened\u001b[39m(\u001b[38;5;28mself\u001b[39m, args: Sequence[core\u001b[38;5;241m.\u001b[39mTensor]) \u001b[38;5;241m-\u001b[39m\u001b[38;5;241m>\u001b[39m Any:\n\u001b[1;32m    215\u001b[0m \u001b[38;5;250m  \u001b[39m\u001b[38;5;124;03m\"\"\"Calls with flattened tensor inputs and returns the structured output.\"\"\"\u001b[39;00m\n\u001b[0;32m--> 216\u001b[0m   flat_outputs \u001b[38;5;241m=\u001b[39m \u001b[38;5;28;43mself\u001b[39;49m\u001b[38;5;241;43m.\u001b[39;49m\u001b[43mcall_flat\u001b[49m\u001b[43m(\u001b[49m\u001b[38;5;241;43m*\u001b[39;49m\u001b[43margs\u001b[49m\u001b[43m)\u001b[49m\n\u001b[1;32m    217\u001b[0m   \u001b[38;5;28;01mreturn\u001b[39;00m \u001b[38;5;28mself\u001b[39m\u001b[38;5;241m.\u001b[39mfunction_type\u001b[38;5;241m.\u001b[39mpack_output(flat_outputs)\n",
      "File \u001b[0;32m~/anaconda3/envs/facial-recog/lib/python3.12/site-packages/tensorflow/python/eager/polymorphic_function/atomic_function.py:251\u001b[0m, in \u001b[0;36mAtomicFunction.call_flat\u001b[0;34m(self, *args)\u001b[0m\n\u001b[1;32m    249\u001b[0m \u001b[38;5;28;01mwith\u001b[39;00m record\u001b[38;5;241m.\u001b[39mstop_recording():\n\u001b[1;32m    250\u001b[0m   \u001b[38;5;28;01mif\u001b[39;00m \u001b[38;5;28mself\u001b[39m\u001b[38;5;241m.\u001b[39m_bound_context\u001b[38;5;241m.\u001b[39mexecuting_eagerly():\n\u001b[0;32m--> 251\u001b[0m     outputs \u001b[38;5;241m=\u001b[39m \u001b[38;5;28;43mself\u001b[39;49m\u001b[38;5;241;43m.\u001b[39;49m\u001b[43m_bound_context\u001b[49m\u001b[38;5;241;43m.\u001b[39;49m\u001b[43mcall_function\u001b[49m\u001b[43m(\u001b[49m\n\u001b[1;32m    252\u001b[0m \u001b[43m        \u001b[49m\u001b[38;5;28;43mself\u001b[39;49m\u001b[38;5;241;43m.\u001b[39;49m\u001b[43mname\u001b[49m\u001b[43m,\u001b[49m\n\u001b[1;32m    253\u001b[0m \u001b[43m        \u001b[49m\u001b[38;5;28;43mlist\u001b[39;49m\u001b[43m(\u001b[49m\u001b[43margs\u001b[49m\u001b[43m)\u001b[49m\u001b[43m,\u001b[49m\n\u001b[1;32m    254\u001b[0m \u001b[43m        \u001b[49m\u001b[38;5;28;43mlen\u001b[39;49m\u001b[43m(\u001b[49m\u001b[38;5;28;43mself\u001b[39;49m\u001b[38;5;241;43m.\u001b[39;49m\u001b[43mfunction_type\u001b[49m\u001b[38;5;241;43m.\u001b[39;49m\u001b[43mflat_outputs\u001b[49m\u001b[43m)\u001b[49m\u001b[43m,\u001b[49m\n\u001b[1;32m    255\u001b[0m \u001b[43m    \u001b[49m\u001b[43m)\u001b[49m\n\u001b[1;32m    256\u001b[0m   \u001b[38;5;28;01melse\u001b[39;00m:\n\u001b[1;32m    257\u001b[0m     outputs \u001b[38;5;241m=\u001b[39m make_call_op_in_graph(\n\u001b[1;32m    258\u001b[0m         \u001b[38;5;28mself\u001b[39m,\n\u001b[1;32m    259\u001b[0m         \u001b[38;5;28mlist\u001b[39m(args),\n\u001b[1;32m    260\u001b[0m         \u001b[38;5;28mself\u001b[39m\u001b[38;5;241m.\u001b[39m_bound_context\u001b[38;5;241m.\u001b[39mfunction_call_options\u001b[38;5;241m.\u001b[39mas_attrs(),\n\u001b[1;32m    261\u001b[0m     )\n",
      "File \u001b[0;32m~/anaconda3/envs/facial-recog/lib/python3.12/site-packages/tensorflow/python/eager/context.py:1500\u001b[0m, in \u001b[0;36mContext.call_function\u001b[0;34m(self, name, tensor_inputs, num_outputs)\u001b[0m\n\u001b[1;32m   1498\u001b[0m cancellation_context \u001b[38;5;241m=\u001b[39m cancellation\u001b[38;5;241m.\u001b[39mcontext()\n\u001b[1;32m   1499\u001b[0m \u001b[38;5;28;01mif\u001b[39;00m cancellation_context \u001b[38;5;129;01mis\u001b[39;00m \u001b[38;5;28;01mNone\u001b[39;00m:\n\u001b[0;32m-> 1500\u001b[0m   outputs \u001b[38;5;241m=\u001b[39m \u001b[43mexecute\u001b[49m\u001b[38;5;241;43m.\u001b[39;49m\u001b[43mexecute\u001b[49m\u001b[43m(\u001b[49m\n\u001b[1;32m   1501\u001b[0m \u001b[43m      \u001b[49m\u001b[43mname\u001b[49m\u001b[38;5;241;43m.\u001b[39;49m\u001b[43mdecode\u001b[49m\u001b[43m(\u001b[49m\u001b[38;5;124;43m\"\u001b[39;49m\u001b[38;5;124;43mutf-8\u001b[39;49m\u001b[38;5;124;43m\"\u001b[39;49m\u001b[43m)\u001b[49m\u001b[43m,\u001b[49m\n\u001b[1;32m   1502\u001b[0m \u001b[43m      \u001b[49m\u001b[43mnum_outputs\u001b[49m\u001b[38;5;241;43m=\u001b[39;49m\u001b[43mnum_outputs\u001b[49m\u001b[43m,\u001b[49m\n\u001b[1;32m   1503\u001b[0m \u001b[43m      \u001b[49m\u001b[43minputs\u001b[49m\u001b[38;5;241;43m=\u001b[39;49m\u001b[43mtensor_inputs\u001b[49m\u001b[43m,\u001b[49m\n\u001b[1;32m   1504\u001b[0m \u001b[43m      \u001b[49m\u001b[43mattrs\u001b[49m\u001b[38;5;241;43m=\u001b[39;49m\u001b[43mattrs\u001b[49m\u001b[43m,\u001b[49m\n\u001b[1;32m   1505\u001b[0m \u001b[43m      \u001b[49m\u001b[43mctx\u001b[49m\u001b[38;5;241;43m=\u001b[39;49m\u001b[38;5;28;43mself\u001b[39;49m\u001b[43m,\u001b[49m\n\u001b[1;32m   1506\u001b[0m \u001b[43m  \u001b[49m\u001b[43m)\u001b[49m\n\u001b[1;32m   1507\u001b[0m \u001b[38;5;28;01melse\u001b[39;00m:\n\u001b[1;32m   1508\u001b[0m   outputs \u001b[38;5;241m=\u001b[39m execute\u001b[38;5;241m.\u001b[39mexecute_with_cancellation(\n\u001b[1;32m   1509\u001b[0m       name\u001b[38;5;241m.\u001b[39mdecode(\u001b[38;5;124m\"\u001b[39m\u001b[38;5;124mutf-8\u001b[39m\u001b[38;5;124m\"\u001b[39m),\n\u001b[1;32m   1510\u001b[0m       num_outputs\u001b[38;5;241m=\u001b[39mnum_outputs,\n\u001b[0;32m   (...)\u001b[0m\n\u001b[1;32m   1514\u001b[0m       cancellation_manager\u001b[38;5;241m=\u001b[39mcancellation_context,\n\u001b[1;32m   1515\u001b[0m   )\n",
      "File \u001b[0;32m~/anaconda3/envs/facial-recog/lib/python3.12/site-packages/tensorflow/python/eager/execute.py:53\u001b[0m, in \u001b[0;36mquick_execute\u001b[0;34m(op_name, num_outputs, inputs, attrs, ctx, name)\u001b[0m\n\u001b[1;32m     51\u001b[0m \u001b[38;5;28;01mtry\u001b[39;00m:\n\u001b[1;32m     52\u001b[0m   ctx\u001b[38;5;241m.\u001b[39mensure_initialized()\n\u001b[0;32m---> 53\u001b[0m   tensors \u001b[38;5;241m=\u001b[39m \u001b[43mpywrap_tfe\u001b[49m\u001b[38;5;241;43m.\u001b[39;49m\u001b[43mTFE_Py_Execute\u001b[49m\u001b[43m(\u001b[49m\u001b[43mctx\u001b[49m\u001b[38;5;241;43m.\u001b[39;49m\u001b[43m_handle\u001b[49m\u001b[43m,\u001b[49m\u001b[43m \u001b[49m\u001b[43mdevice_name\u001b[49m\u001b[43m,\u001b[49m\u001b[43m \u001b[49m\u001b[43mop_name\u001b[49m\u001b[43m,\u001b[49m\n\u001b[1;32m     54\u001b[0m \u001b[43m                                      \u001b[49m\u001b[43minputs\u001b[49m\u001b[43m,\u001b[49m\u001b[43m \u001b[49m\u001b[43mattrs\u001b[49m\u001b[43m,\u001b[49m\u001b[43m \u001b[49m\u001b[43mnum_outputs\u001b[49m\u001b[43m)\u001b[49m\n\u001b[1;32m     55\u001b[0m \u001b[38;5;28;01mexcept\u001b[39;00m core\u001b[38;5;241m.\u001b[39m_NotOkStatusException \u001b[38;5;28;01mas\u001b[39;00m e:\n\u001b[1;32m     56\u001b[0m   \u001b[38;5;28;01mif\u001b[39;00m name \u001b[38;5;129;01mis\u001b[39;00m \u001b[38;5;129;01mnot\u001b[39;00m \u001b[38;5;28;01mNone\u001b[39;00m:\n",
      "\u001b[0;31mKeyboardInterrupt\u001b[0m: "
     ]
    }
   ],
   "source": [
    "# Train the model\n",
    "history = model.fit(image_matrix, labels,\n",
    "                    epochs=30,\n",
    "                    batch_size=64,\n",
    "                    validation_data=(test_image_matrix, test_labels))\n",
    "\n",
    "# Save the model\n",
    "model.save(\"model/trained_cnn_model.h5\")"
   ]
  }
 ],
 "metadata": {
  "kernelspec": {
   "display_name": "Python 3",
   "language": "python",
   "name": "python3"
  },
  "language_info": {
   "codemirror_mode": {
    "name": "ipython",
    "version": 3
   },
   "file_extension": ".py",
   "mimetype": "text/x-python",
   "name": "python",
   "nbconvert_exporter": "python",
   "pygments_lexer": "ipython3",
   "version": "3.12.2"
  }
 },
 "nbformat": 4,
 "nbformat_minor": 2
}
